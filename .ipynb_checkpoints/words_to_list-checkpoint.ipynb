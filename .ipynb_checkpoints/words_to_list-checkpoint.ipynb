{
 "cells": [
  {
   "cell_type": "code",
   "execution_count": 30,
   "metadata": {
    "scrolled": true
   },
   "outputs": [
    {
     "data": {
      "text/plain": [
       "['wheat',\n",
       " 'rye',\n",
       " 'barley',\n",
       " 'oats',\n",
       " 'crabs',\n",
       " 'prawns',\n",
       " 'lobsters',\n",
       " 'eggs',\n",
       " 'fish',\n",
       " 'peanuts',\n",
       " 'soybeans',\n",
       " 'milk',\n",
       " 'almonds',\n",
       " 'hazelnuts',\n",
       " 'walnuts',\n",
       " 'cashews',\n",
       " 'pecan',\n",
       " 'nuts',\n",
       " 'brazil',\n",
       " 'nuts',\n",
       " 'pistachio',\n",
       " 'nuts',\n",
       " 'macademia',\n",
       " 'celery',\n",
       " 'mustard',\n",
       " 'sesame',\n",
       " 'seeds',\n",
       " 'sulphur',\n",
       " 'dioxide',\n",
       " 'and',\n",
       " 'sulphites',\n",
       " 'lupin',\n",
       " 'molluscs']"
      ]
     },
     "execution_count": 30,
     "metadata": {},
     "output_type": "execute_result"
    }
   ],
   "source": [
    "import re\n",
    "cat = \"Lunch Dinner Snacks Appetisers Soups Salads Rice Noodles Pasta Pies Chicken Turkey Duck Poultry Pork Lamb Beef Meat Seafood Stir-Fry Sauces Vegetarian Desserts Baking Drinks Vegan Gluten Free\"\n",
    "cuis = \"African American Asian Australian Brazil British Cajun Chinese Creole Danish European French Greek Hungarian Indian Indonesian Irish Italian Jamaica Japanese Korean Lebanese Malaysian Mediteranean Mexican Middle-East Norwegian Portuguese Russian Scandinavian Singaporean Spanish Sri-Lankan Swedish Thai Turkish Vietnamese\"\n",
    "allergen = \"wheat rye, barley, Oats,crabs, prawns,lobsters Eggs Fish Peanuts Soybeans Milk almonds, hazelnuts, walnuts, cashews, pecan nuts, brazil nuts, pistachio nuts, macademia Celery Mustard Sesame seeds Sulphur dioxide and sulphites Lupin Molluscs\"\n",
    "wordList = re.sub(\"[^\\w]\", \" \",  allergen).lower().split()\n",
    "\n",
    "wordList"
   ]
  },
  {
   "cell_type": "code",
   "execution_count": null,
   "metadata": {},
   "outputs": [],
   "source": []
  },
  {
   "cell_type": "code",
   "execution_count": null,
   "metadata": {},
   "outputs": [],
   "source": []
  }
 ],
 "metadata": {
  "kernelspec": {
   "display_name": "Python 3",
   "language": "python",
   "name": "python3"
  },
  "language_info": {
   "codemirror_mode": {
    "name": "ipython",
    "version": 3
   },
   "file_extension": ".py",
   "mimetype": "text/x-python",
   "name": "python",
   "nbconvert_exporter": "python",
   "pygments_lexer": "ipython3",
   "version": "3.7.0"
  }
 },
 "nbformat": 4,
 "nbformat_minor": 2
}
