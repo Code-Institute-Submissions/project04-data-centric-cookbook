{
 "cells": [
  {
   "cell_type": "code",
   "execution_count": 1,
   "metadata": {},
   "outputs": [
    {
     "data": {
      "text/plain": [
       "'Teriyaki Chicken Casserole'"
      ]
     },
     "execution_count": 1,
     "metadata": {},
     "output_type": "execute_result"
    }
   ],
   "source": [
    "import os\n",
    "from flask import Flask, jsonify, json\n",
    "from flask_pymongo import PyMongo\n",
    "from bson.objectid import ObjectId\n",
    "from datetime import datetime\n",
    "\n",
    "DBS_NAME = os.getenv(\"DBS_NAME\")\n",
    "MONGO_URI = os.getenv(\"MONGODB_URI\")\n",
    "\n",
    "app = Flask(__name__)\n",
    "app.secret_key = 'The cat is on the roof'\n",
    "\n",
    "app.config[\"DBS_NAME\"] = \"cookbook\"\n",
    "app.config[\"MONGO_URI\"] = \"mongodb://localhost:27017/cookbook\"\n",
    "\n",
    "mongo = PyMongo(app)\n",
    "\n",
    "\n",
    "def insert_recipe():\n",
    "    current_user = '5ba6a175d4cff52894ef222c'\n",
    "    recipes = mongo.db.recipes\n",
    "    new_recipe = { \n",
    "    \"author\": current_user,\n",
    "    \"name\": \"Teriyaki Chicken Casserole\",\n",
    "    \"image_url\": \"https://www.themealdb.com/images/media/meals/wvpsxx1468256321.jpg\",\n",
    "    \"description\": \"Prepare this delicious casserole for an indulgent and healthy dinner. It is made with tasty chicken, a variety of vegetables, and covered with a homemade teriyaki sauce. This casserole is filling and satisfying and makes a great dish that the entire family can enjoy.\",\n",
    "    \"main_ingredient\": \"Chicken\",\n",
    "    \"category\": \"Chicken\",\n",
    "    \"cuisine\": \"Japanese\",\n",
    "    \"difficulty\": \"Easy\",\n",
    "    \"prep_time\": \"35 mins\",\n",
    "    \"cook_time\": \"15 mins\",\n",
    "    \"serves\": 6,\n",
    "    \"calories\": \"350kcal\",\n",
    "    \"allergens\": [\n",
    "      \"Soybeans\"\n",
    "    ],\n",
    "    \"ingredients\": [\n",
    "      \"3/4 cup soy sauce\",\n",
    "      \"1/2 cup water\",\n",
    "      \"1/4 cup brown sugar\",\n",
    "      \"1/2 teaspoon ground ginger\",\n",
    "      \"1/2 teaspoon minced garlic\",\n",
    "      \"4 Tablespoons cornstarch\",\n",
    "      \"2 chicken breasts\",\n",
    "      \"1 (12 oz.) stir-fry vegetables\",\n",
    "      \"3 cups brown rice\"\n",
    "    ],\n",
    "    \"instructions\": [\n",
    "      \"Preheat oven to 350° F. Spray a 9x13-inch baking pan with non-stick spray.\",\n",
    "\t  \"Combine soy sauce, ½ cup water, brown sugar, ginger and garlic in a small saucepan and cover. Bring to a boil over medium heat. Remove lid and cook for one minute once boiling.\",\n",
    "\t  \"Meanwhile, stir together the corn starch and 2 tablespoons of water in a separate dish until smooth. Once sauce is boiling, add mixture to the saucepan and stir to combine. Cook until the sauce starts to thicken then remove from heat.\",\n",
    "\t  \"Place the chicken breasts in the prepared pan. Pour one cup of the sauce over top of chicken. Place chicken in oven and bake 35 minutes or until cooked through. Remove from oven and shred chicken in the dish using two forks.\",\n",
    "\t  \"Meanwhile, steam or cook the vegetables according to package directions.\",\n",
    "\t  \"Add the cooked vegetables and rice to the casserole dish with the chicken. Add most of the remaining sauce, reserving a bit to drizzle over the top when serving. Gently toss everything together in the casserole dish until combined. Return to oven and cook 15 minutes. Remove from oven and let stand 5 minutes before serving. Drizzle each serving with remaining sauce. Enjoy!\"\n",
    "    ],\n",
    "    \"votes\": 54\n",
    "    \"dateCreated\": datetime.now()\n",
    "    }\n",
    "    recipes.insert_one(new_recipe)\n",
    "    message = \"Teriyaki Chicken Casserole\"\n",
    "    return message   \n",
    "\n",
    "insert_recipe()"
   ]
  },
  {
   "cell_type": "code",
   "execution_count": null,
   "metadata": {},
   "outputs": [],
   "source": []
  },
  {
   "cell_type": "code",
   "execution_count": null,
   "metadata": {},
   "outputs": [],
   "source": []
  },
  {
   "cell_type": "code",
   "execution_count": null,
   "metadata": {},
   "outputs": [],
   "source": []
  }
 ],
 "metadata": {
  "kernelspec": {
   "display_name": "Python 3",
   "language": "python",
   "name": "python3"
  },
  "language_info": {
   "codemirror_mode": {
    "name": "ipython",
    "version": 3
   },
   "file_extension": ".py",
   "mimetype": "text/x-python",
   "name": "python",
   "nbconvert_exporter": "python",
   "pygments_lexer": "ipython3",
   "version": "3.7.0"
  }
 },
 "nbformat": 4,
 "nbformat_minor": 2
}
